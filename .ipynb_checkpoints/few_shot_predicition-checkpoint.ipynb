{
 "cells": [
  {
   "cell_type": "code",
   "execution_count": 1,
   "id": "7ee41083-a0ae-49cf-9c0c-c4a07c9bcf3a",
   "metadata": {
    "tags": []
   },
   "outputs": [],
   "source": [
    "import torch\n",
    "\n",
    "import torchvision\n",
    "from torch import nn, optim\n",
    "from torch.utils.data import DataLoader\n",
    "from torchvision import transforms\n",
    "from torchvision.models import resnet18\n",
    "from tqdm import tqdm\n",
    "from PIL import Image\n",
    "from easyfsl.data_tools import TaskSampler\n",
    "from easyfsl.utils import plot_images, sliding_average"
   ]
  },
  {
   "cell_type": "code",
   "execution_count": null,
   "id": "cdf7ae8a-13fe-495d-ade5-202e27aa1586",
   "metadata": {},
   "outputs": [],
   "source": []
  },
  {
   "cell_type": "code",
   "execution_count": 2,
   "id": "43cfdb26-b471-40ad-b321-15929d26a2a4",
   "metadata": {},
   "outputs": [],
   "source": [
    "image_size = 224\n",
    " \n",
    "\n",
    "train_tranform = transforms.Compose(\n",
    "        [\n",
    "            # transforms.Grayscale(num_output_channels=2),\n",
    "            transforms.RandomResizedCrop(image_size),\n",
    "            # transforms.RandomHorizontalFlip(),\n",
    "            transforms.ToTensor(),\n",
    "        ]\n",
    "    )\n",
    "            \n",
    "\n",
    "test_tranform =transform=transforms.Compose(\n",
    "        [\n",
    "           \n",
    "            # transforms.Grayscale(num_output_channels=2),\n",
    "            transforms.Resize([int(image_size * 1.15), int(image_size * 1.15)]),\n",
    "            # transforms.CenterCrop(image_size),\n",
    "            transforms.ToTensor(),\n",
    "        ]\n",
    "    )\n",
    "   \n",
    "   \n",
    "    "
   ]
  },
  {
   "cell_type": "code",
   "execution_count": 3,
   "id": "0d0ccbf8-8e04-46e8-bf29-814e49059648",
   "metadata": {},
   "outputs": [],
   "source": [
    "inp_image = Image.open(\"D:\\Cataract_project\\Cataract_Project\\labelled_data\\Cataract_11.jpeg\")\n",
    "input_tensor = test_tranform(inp_image)\n",
    "inp_batch = input_tensor.unsqueeze(0)"
   ]
  },
  {
   "cell_type": "code",
   "execution_count": 4,
   "id": "961c33c4-feac-470f-9236-9a1dc4c8cb14",
   "metadata": {},
   "outputs": [],
   "source": [
    "train_set = torchvision.datasets.ImageFolder(root=\"few_shot_data - Copy//train/\", transform = train_tranform)"
   ]
  },
  {
   "cell_type": "code",
   "execution_count": 5,
   "id": "68ecd71d-03e6-4d75-a1c8-dbd7f3d5c572",
   "metadata": {},
   "outputs": [
    {
     "data": {
      "text/plain": [
       "Dataset ImageFolder\n",
       "    Number of datapoints: 26\n",
       "    Root location: few_shot_data - Copy//train/\n",
       "    StandardTransform\n",
       "Transform: Compose(\n",
       "               RandomResizedCrop(size=(224, 224), scale=(0.08, 1.0), ratio=(0.75, 1.3333), interpolation=bilinear)\n",
       "               ToTensor()\n",
       "           )"
      ]
     },
     "execution_count": 5,
     "metadata": {},
     "output_type": "execute_result"
    }
   ],
   "source": [
    "train_set"
   ]
  },
  {
   "cell_type": "code",
   "execution_count": 6,
   "id": "616b0209-4785-44f7-9a9e-a1372d138809",
   "metadata": {},
   "outputs": [],
   "source": [
    "test_set = torchvision.datasets.ImageFolder(root= \"few_shot_data/val/\", transform = test_tranform)"
   ]
  },
  {
   "cell_type": "code",
   "execution_count": 7,
   "id": "61a2c032-e793-44bb-aa64-f080bf04b230",
   "metadata": {},
   "outputs": [
    {
     "data": {
      "text/plain": [
       "Dataset ImageFolder\n",
       "    Number of datapoints: 177\n",
       "    Root location: few_shot_data/val/\n",
       "    StandardTransform\n",
       "Transform: Compose(\n",
       "               Resize(size=[257, 257], interpolation=bilinear, max_size=None, antialias=None)\n",
       "               ToTensor()\n",
       "           )"
      ]
     },
     "execution_count": 7,
     "metadata": {},
     "output_type": "execute_result"
    }
   ],
   "source": [
    "test_set"
   ]
  },
  {
   "cell_type": "code",
   "execution_count": 8,
   "id": "b32a8c9d-829b-453b-9aec-34ce5f60a2e7",
   "metadata": {
    "tags": []
   },
   "outputs": [
    {
     "name": "stdout",
     "output_type": "stream",
     "text": [
      "ResNet(\n",
      "  (conv1): Conv2d(3, 64, kernel_size=(7, 7), stride=(2, 2), padding=(3, 3), bias=False)\n",
      "  (bn1): BatchNorm2d(64, eps=1e-05, momentum=0.1, affine=True, track_running_stats=True)\n",
      "  (relu): ReLU(inplace=True)\n",
      "  (maxpool): MaxPool2d(kernel_size=3, stride=2, padding=1, dilation=1, ceil_mode=False)\n",
      "  (layer1): Sequential(\n",
      "    (0): BasicBlock(\n",
      "      (conv1): Conv2d(64, 64, kernel_size=(3, 3), stride=(1, 1), padding=(1, 1), bias=False)\n",
      "      (bn1): BatchNorm2d(64, eps=1e-05, momentum=0.1, affine=True, track_running_stats=True)\n",
      "      (relu): ReLU(inplace=True)\n",
      "      (conv2): Conv2d(64, 64, kernel_size=(3, 3), stride=(1, 1), padding=(1, 1), bias=False)\n",
      "      (bn2): BatchNorm2d(64, eps=1e-05, momentum=0.1, affine=True, track_running_stats=True)\n",
      "    )\n",
      "    (1): BasicBlock(\n",
      "      (conv1): Conv2d(64, 64, kernel_size=(3, 3), stride=(1, 1), padding=(1, 1), bias=False)\n",
      "      (bn1): BatchNorm2d(64, eps=1e-05, momentum=0.1, affine=True, track_running_stats=True)\n",
      "      (relu): ReLU(inplace=True)\n",
      "      (conv2): Conv2d(64, 64, kernel_size=(3, 3), stride=(1, 1), padding=(1, 1), bias=False)\n",
      "      (bn2): BatchNorm2d(64, eps=1e-05, momentum=0.1, affine=True, track_running_stats=True)\n",
      "    )\n",
      "  )\n",
      "  (layer2): Sequential(\n",
      "    (0): BasicBlock(\n",
      "      (conv1): Conv2d(64, 128, kernel_size=(3, 3), stride=(2, 2), padding=(1, 1), bias=False)\n",
      "      (bn1): BatchNorm2d(128, eps=1e-05, momentum=0.1, affine=True, track_running_stats=True)\n",
      "      (relu): ReLU(inplace=True)\n",
      "      (conv2): Conv2d(128, 128, kernel_size=(3, 3), stride=(1, 1), padding=(1, 1), bias=False)\n",
      "      (bn2): BatchNorm2d(128, eps=1e-05, momentum=0.1, affine=True, track_running_stats=True)\n",
      "      (downsample): Sequential(\n",
      "        (0): Conv2d(64, 128, kernel_size=(1, 1), stride=(2, 2), bias=False)\n",
      "        (1): BatchNorm2d(128, eps=1e-05, momentum=0.1, affine=True, track_running_stats=True)\n",
      "      )\n",
      "    )\n",
      "    (1): BasicBlock(\n",
      "      (conv1): Conv2d(128, 128, kernel_size=(3, 3), stride=(1, 1), padding=(1, 1), bias=False)\n",
      "      (bn1): BatchNorm2d(128, eps=1e-05, momentum=0.1, affine=True, track_running_stats=True)\n",
      "      (relu): ReLU(inplace=True)\n",
      "      (conv2): Conv2d(128, 128, kernel_size=(3, 3), stride=(1, 1), padding=(1, 1), bias=False)\n",
      "      (bn2): BatchNorm2d(128, eps=1e-05, momentum=0.1, affine=True, track_running_stats=True)\n",
      "    )\n",
      "  )\n",
      "  (layer3): Sequential(\n",
      "    (0): BasicBlock(\n",
      "      (conv1): Conv2d(128, 256, kernel_size=(3, 3), stride=(2, 2), padding=(1, 1), bias=False)\n",
      "      (bn1): BatchNorm2d(256, eps=1e-05, momentum=0.1, affine=True, track_running_stats=True)\n",
      "      (relu): ReLU(inplace=True)\n",
      "      (conv2): Conv2d(256, 256, kernel_size=(3, 3), stride=(1, 1), padding=(1, 1), bias=False)\n",
      "      (bn2): BatchNorm2d(256, eps=1e-05, momentum=0.1, affine=True, track_running_stats=True)\n",
      "      (downsample): Sequential(\n",
      "        (0): Conv2d(128, 256, kernel_size=(1, 1), stride=(2, 2), bias=False)\n",
      "        (1): BatchNorm2d(256, eps=1e-05, momentum=0.1, affine=True, track_running_stats=True)\n",
      "      )\n",
      "    )\n",
      "    (1): BasicBlock(\n",
      "      (conv1): Conv2d(256, 256, kernel_size=(3, 3), stride=(1, 1), padding=(1, 1), bias=False)\n",
      "      (bn1): BatchNorm2d(256, eps=1e-05, momentum=0.1, affine=True, track_running_stats=True)\n",
      "      (relu): ReLU(inplace=True)\n",
      "      (conv2): Conv2d(256, 256, kernel_size=(3, 3), stride=(1, 1), padding=(1, 1), bias=False)\n",
      "      (bn2): BatchNorm2d(256, eps=1e-05, momentum=0.1, affine=True, track_running_stats=True)\n",
      "    )\n",
      "  )\n",
      "  (layer4): Sequential(\n",
      "    (0): BasicBlock(\n",
      "      (conv1): Conv2d(256, 512, kernel_size=(3, 3), stride=(2, 2), padding=(1, 1), bias=False)\n",
      "      (bn1): BatchNorm2d(512, eps=1e-05, momentum=0.1, affine=True, track_running_stats=True)\n",
      "      (relu): ReLU(inplace=True)\n",
      "      (conv2): Conv2d(512, 512, kernel_size=(3, 3), stride=(1, 1), padding=(1, 1), bias=False)\n",
      "      (bn2): BatchNorm2d(512, eps=1e-05, momentum=0.1, affine=True, track_running_stats=True)\n",
      "      (downsample): Sequential(\n",
      "        (0): Conv2d(256, 512, kernel_size=(1, 1), stride=(2, 2), bias=False)\n",
      "        (1): BatchNorm2d(512, eps=1e-05, momentum=0.1, affine=True, track_running_stats=True)\n",
      "      )\n",
      "    )\n",
      "    (1): BasicBlock(\n",
      "      (conv1): Conv2d(512, 512, kernel_size=(3, 3), stride=(1, 1), padding=(1, 1), bias=False)\n",
      "      (bn1): BatchNorm2d(512, eps=1e-05, momentum=0.1, affine=True, track_running_stats=True)\n",
      "      (relu): ReLU(inplace=True)\n",
      "      (conv2): Conv2d(512, 512, kernel_size=(3, 3), stride=(1, 1), padding=(1, 1), bias=False)\n",
      "      (bn2): BatchNorm2d(512, eps=1e-05, momentum=0.1, affine=True, track_running_stats=True)\n",
      "    )\n",
      "  )\n",
      "  (avgpool): AdaptiveAvgPool2d(output_size=(1, 1))\n",
      "  (fc): Flatten(start_dim=1, end_dim=-1)\n",
      ")\n"
     ]
    }
   ],
   "source": [
    "class PrototypicalNetworks(nn.Module):\n",
    "    def __init__(self, backbone: nn.Module):\n",
    "        super(PrototypicalNetworks, self).__init__()\n",
    "        self.backbone = backbone\n",
    "\n",
    "    def forward(\n",
    "        self,\n",
    "        support_images: torch.Tensor,\n",
    "        support_labels: torch.Tensor,\n",
    "        query_images: torch.Tensor,\n",
    "    ) -> torch.Tensor:\n",
    "        \"\"\"\n",
    "        Predict query labels using labeled support images.\n",
    "        \"\"\"\n",
    "        # Extract the features of support and query images\n",
    "        z_support = self.backbone.forward(support_images)\n",
    "        z_query = self.backbone.forward(query_images)\n",
    "\n",
    "        # Infer the number of different classes from the labels of the support set\n",
    "        n_way = len(torch.unique(support_labels))\n",
    "        # Prototype i is the mean of all instances of features corresponding to labels == i\n",
    "        z_proto = torch.cat(\n",
    "            [\n",
    "                z_support[torch.nonzero(support_labels == label)].mean(0)\n",
    "                for label in range(n_way)\n",
    "            ]\n",
    "        )\n",
    "\n",
    "        # Compute the euclidean distance from queries to prototypes\n",
    "        dists = torch.cdist(z_query, z_proto)\n",
    "\n",
    "        # And here is the super complicated operation to transform those distances into classification scores!\n",
    "        scores = -dists\n",
    "        return scores\n",
    "\n",
    "\n",
    "convolutional_network = resnet18(pretrained=True)\n",
    "convolutional_network.fc = nn.Flatten()\n",
    "print(convolutional_network)\n",
    "\n",
    "model = PrototypicalNetworks(convolutional_network)\n"
   ]
  },
  {
   "cell_type": "code",
   "execution_count": 25,
   "id": "da951f7f-da36-4f89-8dba-1b15341119f7",
   "metadata": {},
   "outputs": [],
   "source": [
    "N_WAY = 2# Number of classes in a task\n",
    "N_SHOT = 10 # Number of images per class in the support set\n",
    "N_QUERY = 10 # Number of images per class in the query set\n",
    "N_EVALUATION_TASKS = 100\n",
    "\n",
    "# The sampler needs a dataset with a \"labels\" field. Check the code if you have any doubt!\n",
    "test_set.labels = [i[1] for i in test_set.imgs]\n",
    "test_sampler = TaskSampler(\n",
    "    test_set, n_way=N_WAY, n_shot=N_SHOT, n_query=N_QUERY, n_tasks=N_EVALUATION_TASKS\n",
    ")\n",
    "\n",
    "test_loader = DataLoader(\n",
    "    test_set,\n",
    "    batch_sampler=test_sampler,\n",
    "    num_workers=1,\n",
    "    pin_memory=True,\n",
    "    collate_fn=test_sampler.episodic_collate_fn,\n",
    ")\n"
   ]
  },
  {
   "cell_type": "code",
   "execution_count": 10,
   "id": "e73596ab-cace-42b1-a141-b2c0622b4284",
   "metadata": {},
   "outputs": [
    {
     "data": {
      "text/plain": [
       "torchvision.datasets.folder.ImageFolder"
      ]
     },
     "execution_count": 10,
     "metadata": {},
     "output_type": "execute_result"
    }
   ],
   "source": [
    "type(test_set)"
   ]
  },
  {
   "cell_type": "code",
   "execution_count": 11,
   "id": "4d4573cb-3130-44ee-92c8-0051113d3e99",
   "metadata": {},
   "outputs": [
    {
     "data": {
      "image/png": "[encoded data removed]",
      "text/plain": [
       "<Figure size 432x288 with 1 Axes>"
      ]
     },
     "metadata": {
      "needs_background": "light"
     },
     "output_type": "display_data"
    },
    {
     "data": {
      "image/png": "[encoded data removed]",
      "text/plain": [
       "<Figure size 432x288 with 1 Axes>"
      ]
     },
     "metadata": {
      "needs_background": "light"
     },
     "output_type": "display_data"
    }
   ],
   "source": [
    "(\n",
    "    example_support_images,\n",
    "    example_support_labels,\n",
    "    example_query_images,\n",
    "    example_query_labels,\n",
    "    example_class_ids,\n",
    ") = next(iter(test_loader))\n",
    "\n",
    "plot_images(example_support_images, \"support images\", images_per_row=N_SHOT)\n",
    "plot_images(example_query_images, \"query images\", images_per_row=N_QUERY)\n"
   ]
  },
  {
   "cell_type": "code",
   "execution_count": 12,
   "id": "7fb4face-d306-43ea-ac63-b1bbb9406885",
   "metadata": {},
   "outputs": [
    {
     "name": "stdout",
     "output_type": "stream",
     "text": [
      "Ground Truth / Predicted\n",
      "cataract / cataract\n",
      "cataract / normal\n",
      "cataract / cataract\n",
      "cataract / normal\n",
      "cataract / cataract\n",
      "cataract / cataract\n",
      "cataract / normal\n",
      "cataract / cataract\n",
      "cataract / normal\n",
      "cataract / normal\n",
      "normal / normal\n",
      "normal / normal\n",
      "normal / normal\n",
      "normal / cataract\n",
      "normal / normal\n",
      "normal / normal\n",
      "normal / normal\n",
      "normal / normal\n",
      "normal / normal\n",
      "normal / normal\n"
     ]
    }
   ],
   "source": [
    "model.eval()\n",
    "example_scores = model(\n",
    "    example_support_images,\n",
    "    example_support_labels,\n",
    "    example_query_images,\n",
    ").detach()\n",
    "\n",
    "_, example_predicted_labels = torch.max(example_scores.data, 1)\n",
    "\n",
    "print(\"Ground Truth / Predicted\")\n",
    "for i in range(len(example_query_labels)):\n",
    "    print(\n",
    "        f\"{test_set.classes[example_class_ids[example_query_labels[i]]]} / {test_set.classes[example_class_ids[example_predicted_labels[i]]]}\"\n",
    "    )\n"
   ]
  },
  {
   "cell_type": "code",
   "execution_count": 13,
   "id": "044ed902-44ab-47a8-a9ca-eb7234b8ebee",
   "metadata": {},
   "outputs": [],
   "source": [
    "def evaluate_on_one_task(\n",
    "    support_images: torch.Tensor,\n",
    "    support_labels: torch.Tensor,\n",
    "    query_images: torch.Tensor,\n",
    "    query_labels: torch.Tensor,\n",
    ") -> [int, int]:\n",
    "    \"\"\"\n",
    "    Returns the number of correct predictions of query labels, and the total number of predictions.\n",
    "    \"\"\"\n",
    "    return (\n",
    "        torch.max(\n",
    "            model(support_images, support_labels, query_images)\n",
    "            .detach()\n",
    "            .data,\n",
    "            1,\n",
    "        )[1]\n",
    "        == query_labels\n",
    "    ).sum().item(), len(query_labels)\n",
    "\n",
    "\n",
    "def evaluate(data_loader: DataLoader):\n",
    "    # We'll count everything and compute the ratio at the end\n",
    "    total_predictions = 0\n",
    "    correct_predictions = 0\n",
    "\n",
    "    # eval mode affects the behaviour of some layers (such as batch normalization or dropout)\n",
    "    # no_grad() tells torch not to keep in memory the whole computational graph (it's more lightweight this way)\n",
    "    model.eval()\n",
    "    with torch.no_grad():\n",
    "        for episode_index, (\n",
    "            support_images,\n",
    "            support_labels,\n",
    "            query_images,\n",
    "            query_labels,\n",
    "            class_ids,\n",
    "        ) in tqdm(enumerate(data_loader), total=len(data_loader)):\n",
    "\n",
    "            correct, total = evaluate_on_one_task(\n",
    "                support_images, support_labels, query_images, query_labels\n",
    "            )\n",
    "\n",
    "            total_predictions += total\n",
    "            correct_predictions += correct\n",
    "\n",
    "    print(\n",
    "        f\"Model tested on {len(data_loader)} tasks. Accuracy: {(100 * correct_predictions/total_predictions):.2f}%\"\n",
    "    )\n",
    "\n",
    "\n",
    "# evaluate(test_loader)\n"
   ]
  },
  {
   "cell_type": "code",
   "execution_count": 20,
   "id": "ce1f838b-36cd-4565-82e3-4aaee0894682",
   "metadata": {},
   "outputs": [],
   "source": [
    "N_TRAINING_EPISODES = 2000\n",
    "N_VALIDATION_TASKS = 100\n",
    "\n",
    "train_set.labels = [instance[1] for instance in train_set.imgs]\n",
    "train_sampler = TaskSampler(\n",
    "    train_set, n_way=N_WAY, n_shot=5, n_query=5, n_tasks=N_TRAINING_EPISODES\n",
    ")\n",
    "train_loader = DataLoader(\n",
    "    train_set,\n",
    "    batch_sampler=train_sampler,\n",
    "    num_workers=1,\n",
    "    pin_memory=True,\n",
    "    collate_fn=train_sampler.episodic_collate_fn,\n",
    ")\n"
   ]
  },
  {
   "cell_type": "code",
   "execution_count": 21,
   "id": "2dc43617-fd22-43c2-8ab7-ca16e5745322",
   "metadata": {},
   "outputs": [],
   "source": [
    "criterion = nn.CrossEntropyLoss()\n",
    "optimizer = optim.Adam(model.parameters(), lr=0.001)\n",
    "\n",
    "\n",
    "def fit(\n",
    "    support_images: torch.Tensor,\n",
    "    support_labels: torch.Tensor,\n",
    "    query_images: torch.Tensor,\n",
    "    query_labels: torch.Tensor,\n",
    ") -> float:\n",
    "    optimizer.zero_grad()\n",
    "    classification_scores = model(\n",
    "        support_images, support_labels, query_images\n",
    "    )\n",
    "\n",
    "    loss = criterion(classification_scores, query_labels)\n",
    "    loss.backward()\n",
    "    optimizer.step()\n",
    "\n",
    "    return loss.item()"
   ]
  },
  {
   "cell_type": "code",
   "execution_count": 22,
   "id": "c3fa022d-dab2-42d1-9f86-9d525674eff6",
   "metadata": {},
   "outputs": [
    {
     "name": "stderr",
     "output_type": "stream",
     "text": [
      "100%|███████████████████████████████████████████████████████████████| 2000/2000 [1:32:36<00:00,  2.78s/it, loss=0.0206]\n"
     ]
    }
   ],
   "source": [
    "log_update_frequency = 10\n",
    "\n",
    "all_loss = []\n",
    "model.train()\n",
    "with tqdm(enumerate(train_loader), total=len(train_loader)) as tqdm_train:\n",
    "    for episode_index, (\n",
    "        support_images,\n",
    "        support_labels,\n",
    "        query_images,\n",
    "        query_labels,\n",
    "        _,\n",
    "    ) in tqdm_train:\n",
    "        loss_value = fit(support_images, support_labels, query_images, query_labels)\n",
    "        all_loss.append(loss_value)\n",
    "\n",
    "        if episode_index % log_update_frequency == 0:\n",
    "            tqdm_train.set_postfix(loss=sliding_average(all_loss, log_update_frequency))"
   ]
  },
  {
   "cell_type": "code",
   "execution_count": 26,
   "id": "0f5d226d-91af-427a-9c92-246b2acb9045",
   "metadata": {},
   "outputs": [
    {
     "name": "stderr",
     "output_type": "stream",
     "text": [
      "100%|████████████████████████████████████████████████████████████████████████████████| 100/100 [03:59<00:00,  2.39s/it]"
     ]
    },
    {
     "name": "stdout",
     "output_type": "stream",
     "text": [
      "Model tested on 100 tasks. Accuracy: 57.55%\n"
     ]
    },
    {
     "name": "stderr",
     "output_type": "stream",
     "text": [
      "\n"
     ]
    }
   ],
   "source": [
    "evaluate(test_loader)"
   ]
  },
  {
   "cell_type": "code",
   "execution_count": 23,
   "id": "a21a72cb-e453-440e-99ad-c9177981ce2e",
   "metadata": {},
   "outputs": [],
   "source": [
    "torch.save(model.state_dict(),'5_shot.pth')"
   ]
  },
  {
   "cell_type": "code",
   "execution_count": 41,
   "id": "e04676e6-53bb-4adc-bb0f-a4ec3d0fcfa1",
   "metadata": {},
   "outputs": [
    {
     "data": {
      "text/plain": [
       "<All keys matched successfully>"
      ]
     },
     "execution_count": 41,
     "metadata": {},
     "output_type": "execute_result"
    }
   ],
   "source": [
    "model.load_state_dict(torch.load('few_shot_classifier_10shot.pth',map_location={'cuda:0': 'cpu'}))"
   ]
  },
  {
   "cell_type": "code",
   "execution_count": 13,
   "id": "cfb102ba-6b3d-4297-b750-f50c985610d3",
   "metadata": {
    "tags": []
   },
   "outputs": [
    {
     "name": "stderr",
     "output_type": "stream",
     "text": [
      "100%|████████████████████████████████████████████████████████████████████████████████| 100/100 [03:49<00:00,  2.29s/it]"
     ]
    },
    {
     "name": "stdout",
     "output_type": "stream",
     "text": [
      "Model tested on 100 tasks. Accuracy: 78.50%\n"
     ]
    },
    {
     "name": "stderr",
     "output_type": "stream",
     "text": [
      "\n"
     ]
    }
   ],
   "source": [
    "with torch.no_grad():\n",
    "    output = evaluate(test_loader)\n"
   ]
  },
  {
   "cell_type": "code",
   "execution_count": null,
   "id": "d3989e23-c4d8-4b81-87e0-26f5efd4387d",
   "metadata": {},
   "outputs": [],
   "source": []
  },
  {
   "cell_type": "code",
   "execution_count": null,
   "id": "980da5f2-913f-486c-947b-82f5868593df",
   "metadata": {},
   "outputs": [],
   "source": [
    "type(model)"
   ]
  },
  {
   "cell_type": "code",
   "execution_count": null,
   "id": "d17bb278-2951-4793-bea7-55e8092b0d49",
   "metadata": {},
   "outputs": [],
   "source": [
    "type(example_support_images)"
   ]
  },
  {
   "cell_type": "code",
   "execution_count": 16,
   "id": "ab1c9502-4b37-4256-88d8-76acea2b6252",
   "metadata": {},
   "outputs": [],
   "source": [
    "rd_set = torchvision.datasets.ImageFolder(root= r\"D:\\Cataract_data\\eye_image\\Final\\train\", transform = test_tranform)"
   ]
  },
  {
   "cell_type": "code",
   "execution_count": null,
   "id": "9a1666c3-78fa-484c-ace0-33e50ccea07e",
   "metadata": {
    "tags": []
   },
   "outputs": [],
   "source": [
    "rd_set.imgs[0][1]"
   ]
  },
  {
   "cell_type": "code",
   "execution_count": 17,
   "id": "b26555cf-0093-4043-972a-3b4871f65caa",
   "metadata": {},
   "outputs": [],
   "source": [
    "N_WAY = 2# Number of classes in a task\n",
    "N_SHOT = 5 # Number of images per class in the support set\n",
    "N_QUERY = 10 # Number of images per class in the query set\n",
    "N_EVALUATION_TASKS = 100\n",
    "\n",
    "# The sampler needs a dataset with a \"labels\" field. Check the code if you have any doubt!\n",
    "rd_set.labels = [i[1] for i in rd_set.imgs]\n",
    "rd_sampler = TaskSampler(\n",
    "    rd_set, n_way=N_WAY, n_shot=N_SHOT, n_query=N_QUERY, n_tasks=N_EVALUATION_TASKS\n",
    ")\n",
    "\n",
    "rd_loader = DataLoader(\n",
    "    rd_set,\n",
    "    batch_sampler=rd_sampler,\n",
    "    num_workers=12,\n",
    "    pin_memory=True,\n",
    "    collate_fn=rd_sampler.episodic_collate_fn,\n",
    ")\n"
   ]
  },
  {
   "cell_type": "code",
   "execution_count": null,
   "id": "57d1cf64-9bdd-4a5d-9f10-3893cc9f5172",
   "metadata": {},
   "outputs": [],
   "source": [
    "type(rd_loader)"
   ]
  },
  {
   "cell_type": "code",
   "execution_count": 18,
   "id": "82cf6d2e-b9f2-4a7f-9553-699e37e6085d",
   "metadata": {},
   "outputs": [
    {
     "name": "stderr",
     "output_type": "stream",
     "text": [
      "100%|████████████████████████████████████████████████████████████████████████████████| 100/100 [02:20<00:00,  1.40s/it]"
     ]
    },
    {
     "name": "stdout",
     "output_type": "stream",
     "text": [
      "Model tested on 100 tasks. Accuracy: 88.00%\n"
     ]
    },
    {
     "name": "stderr",
     "output_type": "stream",
     "text": [
      "\n"
     ]
    }
   ],
   "source": [
    "evaluate(rd_loader)"
   ]
  },
  {
   "cell_type": "code",
   "execution_count": null,
   "id": "036a7087-a62a-4150-8cf6-eb2aaf4753fa",
   "metadata": {},
   "outputs": [],
   "source": [
    "rd_sampler"
   ]
  },
  {
   "cell_type": "code",
   "execution_count": null,
   "id": "3a83050f-12c9-4b0f-913c-fdf4de61c330",
   "metadata": {
    "tags": []
   },
   "outputs": [],
   "source": [
    "import torch.onnx\n",
    "torch.onnx.export(model( example_support_images,\n",
    "    example_support_labels,\n",
    "    example_query_images),\n",
    "    \n",
    "    example_support_images,\n",
    "    example_support_labels,\n",
    "    example_query_images,\n",
    "                  \"resnet18.onnx\",\n",
    "                  \n",
    "                  opset_version=10)"
   ]
  },
  {
   "cell_type": "code",
   "execution_count": null,
   "id": "9880d89d-752a-42fb-860e-22fd466c68bf",
   "metadata": {},
   "outputs": [],
   "source": [
    "input_tensor = test_tranform(inp_image)\n",
    "inp_batch = input_tensor.unsqueeze(0)"
   ]
  },
  {
   "cell_type": "code",
   "execution_count": null,
   "id": "6cbb9e40-d3fa-4dc2-a92d-72e2d4743fff",
   "metadata": {
    "tags": []
   },
   "outputs": [],
   "source": [
    "inp_batch"
   ]
  },
  {
   "cell_type": "code",
   "execution_count": null,
   "id": "1dabd25f-064e-44e0-aa46-3ffbdc6876b3",
   "metadata": {},
   "outputs": [],
   "source": [
    "img_loader = DataLoader(input_tensor)"
   ]
  },
  {
   "cell_type": "code",
   "execution_count": null,
   "id": "a2bf860b-b578-4562-becc-953d25639635",
   "metadata": {},
   "outputs": [],
   "source": [
    "type(img_loader)"
   ]
  },
  {
   "cell_type": "code",
   "execution_count": null,
   "id": "d50591d6-690f-498b-9886-0d0839774182",
   "metadata": {},
   "outputs": [],
   "source": [
    "evaluate(img_loader)"
   ]
  },
  {
   "cell_type": "code",
   "execution_count": null,
   "id": "0d392749-5988-47ab-808e-f46278e467e1",
   "metadata": {},
   "outputs": [],
   "source": [
    "input_tensor.imgs"
   ]
  },
  {
   "cell_type": "code",
   "execution_count": null,
   "id": "c1c98c3e-d20f-4da7-83a9-8919bbccac74",
   "metadata": {},
   "outputs": [],
   "source": [
    "type(rd_sampler)"
   ]
  },
  {
   "cell_type": "code",
   "execution_count": null,
   "id": "18e07440-4a6f-4828-86ed-b780f4688d45",
   "metadata": {},
   "outputs": [],
   "source": [
    "type(inp_image)"
   ]
  },
  {
   "cell_type": "code",
   "execution_count": null,
   "id": "6a3b98ca-731a-4d12-91db-6b47b3e902c8",
   "metadata": {},
   "outputs": [],
   "source": [
    "inp_batch"
   ]
  },
  {
   "cell_type": "code",
   "execution_count": null,
   "id": "051dee27-13da-4424-99b4-7725add12ec2",
   "metadata": {},
   "outputs": [],
   "source": [
    "N_WAY = 2# Number of classes in a task\n",
    "N_SHOT = 1 # Number of images per class in the support set\n",
    "N_QUERY = 10 # Number of images per class in the query set\n",
    "N_EVALUATION_TASKS = 100\n",
    "\n",
    "# The sampler needs a dataset with a \"labels\" field. Check the code if you have any doubt!\n",
    "input_tensor.labels = [i[1] for i in input_tensor.imgs]\n",
    "ip_sampler = TaskSampler(\n",
    "    inp_batch, n_way=N_WAY, n_shot=N_SHOT, n_query=N_QUERY, n_tasks=N_EVALUATION_TASKS\n",
    ")\n",
    "\n",
    "rd_loader = DataLoader(\n",
    "    inp_batch,\n",
    "    batch_sampler=ip_sampler,\n",
    "    num_workers=12,\n",
    "    pin_memory=True,\n",
    "    collate_fn=rd_sampler.episodic_collate_fn,\n",
    ")\n"
   ]
  },
  {
   "cell_type": "code",
   "execution_count": null,
   "id": "87dea006-4917-4443-8614-529871d76b9c",
   "metadata": {},
   "outputs": [],
   "source": [
    "def predict(model,inpt,target,class_mapping):\n",
    "    model.eval()\n",
    "    with torch.no_grad():\n",
    "        predictions = model(inpt)\n",
    "        prediction_index = predictions[0].argmax(0)\n",
    "        predicted = class_mapping[prediction_index]\n",
    "        expected = class_mapping[target]\n",
    "        \n",
    "    return predicted, expected"
   ]
  },
  {
   "cell_type": "code",
   "execution_count": null,
   "id": "07c44abd-c231-493c-9ee9-11f64c119522",
   "metadata": {},
   "outputs": [],
   "source": [
    "inpt, target = input_tensor[0][0], input_tensor[0][1]"
   ]
  },
  {
   "cell_type": "code",
   "execution_count": null,
   "id": "c5b7af57-218c-44e4-83b7-028274231f36",
   "metadata": {},
   "outputs": [],
   "source": [
    "class_mappings = ['Cataract','Normal']"
   ]
  },
  {
   "cell_type": "code",
   "execution_count": null,
   "id": "08676e5e-7ee1-4d89-928b-b210f376b12b",
   "metadata": {},
   "outputs": [],
   "source": [
    "predicted, expected = predict(model, inpt,target,class_mappings)"
   ]
  },
  {
   "cell_type": "code",
   "execution_count": null,
   "id": "e21585ea-28e8-478e-a80d-0223f3c649ab",
   "metadata": {},
   "outputs": [],
   "source": []
  },
  {
   "cell_type": "code",
   "execution_count": null,
   "id": "dbbb96d5-19d9-416d-9662-eb472b6c89ee",
   "metadata": {},
   "outputs": [],
   "source": []
  },
  {
   "cell_type": "code",
   "execution_count": null,
   "id": "95999a1f-03b3-4b2c-aa53-8b0114d157f2",
   "metadata": {},
   "outputs": [],
   "source": []
  },
  {
   "cell_type": "code",
   "execution_count": 29,
   "id": "4c14a3b8-d639-404a-99f3-e1547a0141f6",
   "metadata": {},
   "outputs": [
    {
     "name": "stdout",
     "output_type": "stream",
     "text": [
      "tensor([1])\n"
     ]
    }
   ],
   "source": [
    "model.eval()\n",
    "# example_scores = model(\n",
    "#     example_support_images,\n",
    "#     example_support_labels,\n",
    "#     inp_batch,\n",
    "# ).detach()\n",
    "\n",
    "_, example_predicted_labels = torch.max(example_scores.data, 1)\n",
    "\n",
    "# print(\"Ground Truth / Predicted\")\n",
    "# for i in range(len(example_query_labels)):\n",
    "#     print(\n",
    "#         f\"{test_set.classes[example_class_ids[example_query_labels[i]]]} / {test_set.classes[example_class_ids[example_predicted_labels[i]]]}\"\n",
    "#     # \n",
    "print(example_predicted_labels)"
   ]
  },
  {
   "cell_type": "code",
   "execution_count": 36,
   "id": "54cd5ab6-ab49-4d35-8897-14c26420dc04",
   "metadata": {},
   "outputs": [
    {
     "data": {
      "image/png": "[encoded data removed]",
      "text/plain": [
       "<Figure size 432x288 with 1 Axes>"
      ]
     },
     "metadata": {
      "needs_background": "light"
     },
     "output_type": "display_data"
    },
    {
     "data": {
      "image/png": "[encoded data removed]",
      "text/plain": [
       "<Figure size 432x288 with 1 Axes>"
      ]
     },
     "metadata": {
      "needs_background": "light"
     },
     "output_type": "display_data"
    }
   ],
   "source": [
    "(\n",
    "    example_support_images,\n",
    "    example_support_labels,\n",
    "    example_query_images,\n",
    "    example_query_labels,\n",
    "    example_class_ids,\n",
    ") = next(iter(train_loader))\n",
    "\n",
    "plot_images(example_support_images, \"support images\", images_per_row=N_SHOT)\n",
    "plot_images(example_query_images, \"query images\", images_per_row=N_QUERY)\n"
   ]
  },
  {
   "cell_type": "code",
   "execution_count": 20,
   "id": "44a03a33-fdbe-42e8-bdf0-bc2244076c00",
   "metadata": {
    "collapsed": true,
    "jupyter": {
     "outputs_hidden": true
    },
    "tags": []
   },
   "outputs": [
    {
     "data": {
      "text/plain": [
       "tensor([[[[0.0039, 0.0039, 0.0039,  ..., 0.0000, 0.0000, 0.0000],\n",
       "          [0.0039, 0.0039, 0.0039,  ..., 0.0000, 0.0000, 0.0000],\n",
       "          [0.0039, 0.0039, 0.0039,  ..., 0.0000, 0.0000, 0.0000],\n",
       "          ...,\n",
       "          [0.0000, 0.0000, 0.0000,  ..., 0.0000, 0.0000, 0.0000],\n",
       "          [0.0000, 0.0000, 0.0000,  ..., 0.0000, 0.0000, 0.0000],\n",
       "          [0.0000, 0.0000, 0.0000,  ..., 0.0000, 0.0000, 0.0000]],\n",
       "\n",
       "         [[0.0000, 0.0000, 0.0000,  ..., 0.0039, 0.0039, 0.0039],\n",
       "          [0.0000, 0.0000, 0.0000,  ..., 0.0000, 0.0000, 0.0000],\n",
       "          [0.0000, 0.0000, 0.0000,  ..., 0.0000, 0.0000, 0.0000],\n",
       "          ...,\n",
       "          [0.0000, 0.0000, 0.0000,  ..., 0.0000, 0.0000, 0.0000],\n",
       "          [0.0000, 0.0000, 0.0000,  ..., 0.0000, 0.0000, 0.0000],\n",
       "          [0.0000, 0.0000, 0.0000,  ..., 0.0000, 0.0000, 0.0000]],\n",
       "\n",
       "         [[0.0000, 0.0000, 0.0039,  ..., 0.0039, 0.0039, 0.0039],\n",
       "          [0.0039, 0.0039, 0.0039,  ..., 0.0039, 0.0039, 0.0039],\n",
       "          [0.0039, 0.0039, 0.0078,  ..., 0.0078, 0.0078, 0.0078],\n",
       "          ...,\n",
       "          [0.0000, 0.0000, 0.0000,  ..., 0.0000, 0.0000, 0.0000],\n",
       "          [0.0000, 0.0000, 0.0000,  ..., 0.0000, 0.0000, 0.0000],\n",
       "          [0.0000, 0.0000, 0.0000,  ..., 0.0000, 0.0000, 0.0000]]],\n",
       "\n",
       "\n",
       "        [[[0.0000, 0.0000, 0.0000,  ..., 0.0000, 0.0000, 0.0000],\n",
       "          [0.0000, 0.0000, 0.0000,  ..., 0.0000, 0.0000, 0.0000],\n",
       "          [0.0000, 0.0000, 0.0000,  ..., 0.0000, 0.0000, 0.0000],\n",
       "          ...,\n",
       "          [0.0000, 0.0000, 0.0000,  ..., 0.8039, 0.5804, 0.2941],\n",
       "          [0.0000, 0.0000, 0.0000,  ..., 0.5765, 0.3882, 0.1725],\n",
       "          [0.0000, 0.0000, 0.0000,  ..., 0.2863, 0.1725, 0.0745]],\n",
       "\n",
       "         [[0.0000, 0.0000, 0.0000,  ..., 0.0000, 0.0000, 0.0000],\n",
       "          [0.0000, 0.0000, 0.0000,  ..., 0.0000, 0.0000, 0.0000],\n",
       "          [0.0000, 0.0000, 0.0000,  ..., 0.0000, 0.0000, 0.0000],\n",
       "          ...,\n",
       "          [0.0000, 0.0000, 0.0000,  ..., 0.7020, 0.5098, 0.2588],\n",
       "          [0.0000, 0.0000, 0.0000,  ..., 0.4980, 0.3373, 0.1490],\n",
       "          [0.0000, 0.0000, 0.0000,  ..., 0.2471, 0.1490, 0.0667]],\n",
       "\n",
       "         [[0.0000, 0.0000, 0.0000,  ..., 0.0000, 0.0000, 0.0000],\n",
       "          [0.0000, 0.0000, 0.0000,  ..., 0.0000, 0.0000, 0.0000],\n",
       "          [0.0000, 0.0000, 0.0000,  ..., 0.0000, 0.0000, 0.0000],\n",
       "          ...,\n",
       "          [0.0000, 0.0000, 0.0000,  ..., 0.6902, 0.5059, 0.2588],\n",
       "          [0.0000, 0.0000, 0.0000,  ..., 0.4863, 0.3333, 0.1490],\n",
       "          [0.0000, 0.0000, 0.0000,  ..., 0.2431, 0.1490, 0.0667]]],\n",
       "\n",
       "\n",
       "        [[[0.0000, 0.0000, 0.0000,  ..., 0.0000, 0.0000, 0.0000],\n",
       "          [0.0000, 0.0000, 0.0000,  ..., 0.0000, 0.0000, 0.0000],\n",
       "          [0.0000, 0.0000, 0.0000,  ..., 0.0000, 0.0000, 0.0000],\n",
       "          ...,\n",
       "          [0.0000, 0.0000, 0.0000,  ..., 0.0000, 0.0000, 0.0000],\n",
       "          [0.0000, 0.0000, 0.0000,  ..., 0.0000, 0.0000, 0.0000],\n",
       "          [0.0000, 0.0000, 0.0000,  ..., 0.0000, 0.0000, 0.0000]],\n",
       "\n",
       "         [[0.0000, 0.0000, 0.0000,  ..., 0.0000, 0.0000, 0.0000],\n",
       "          [0.0000, 0.0000, 0.0000,  ..., 0.0000, 0.0000, 0.0000],\n",
       "          [0.0000, 0.0000, 0.0000,  ..., 0.0000, 0.0000, 0.0000],\n",
       "          ...,\n",
       "          [0.0000, 0.0000, 0.0000,  ..., 0.0000, 0.0000, 0.0000],\n",
       "          [0.0000, 0.0000, 0.0000,  ..., 0.0000, 0.0000, 0.0000],\n",
       "          [0.0000, 0.0000, 0.0000,  ..., 0.0000, 0.0000, 0.0000]],\n",
       "\n",
       "         [[0.0000, 0.0000, 0.0000,  ..., 0.0000, 0.0000, 0.0000],\n",
       "          [0.0000, 0.0000, 0.0000,  ..., 0.0000, 0.0000, 0.0000],\n",
       "          [0.0000, 0.0000, 0.0000,  ..., 0.0000, 0.0000, 0.0000],\n",
       "          ...,\n",
       "          [0.0000, 0.0000, 0.0000,  ..., 0.0000, 0.0000, 0.0000],\n",
       "          [0.0000, 0.0000, 0.0000,  ..., 0.0000, 0.0000, 0.0000],\n",
       "          [0.0000, 0.0000, 0.0000,  ..., 0.0000, 0.0000, 0.0000]]],\n",
       "\n",
       "\n",
       "        ...,\n",
       "\n",
       "\n",
       "        [[[0.0000, 0.0000, 0.0000,  ..., 0.0000, 0.0000, 0.0000],\n",
       "          [0.0000, 0.0000, 0.0000,  ..., 0.0000, 0.0000, 0.0000],\n",
       "          [0.0000, 0.0000, 0.0000,  ..., 0.0000, 0.0000, 0.0000],\n",
       "          ...,\n",
       "          [0.0000, 0.0000, 0.0000,  ..., 0.8863, 0.6431, 0.3294],\n",
       "          [0.0000, 0.0000, 0.0000,  ..., 0.6431, 0.4314, 0.1922],\n",
       "          [0.0000, 0.0000, 0.0000,  ..., 0.3294, 0.1922, 0.0863]],\n",
       "\n",
       "         [[0.0000, 0.0000, 0.0000,  ..., 0.0000, 0.0000, 0.0000],\n",
       "          [0.0000, 0.0000, 0.0000,  ..., 0.0000, 0.0000, 0.0000],\n",
       "          [0.0000, 0.0000, 0.0000,  ..., 0.0000, 0.0000, 0.0000],\n",
       "          ...,\n",
       "          [0.0000, 0.0000, 0.0000,  ..., 0.8157, 0.5961, 0.3059],\n",
       "          [0.0000, 0.0000, 0.0000,  ..., 0.5922, 0.4000, 0.1765],\n",
       "          [0.0000, 0.0000, 0.0000,  ..., 0.3020, 0.1765, 0.0784]],\n",
       "\n",
       "         [[0.0000, 0.0000, 0.0000,  ..., 0.0000, 0.0000, 0.0000],\n",
       "          [0.0000, 0.0000, 0.0000,  ..., 0.0000, 0.0000, 0.0000],\n",
       "          [0.0000, 0.0000, 0.0000,  ..., 0.0000, 0.0000, 0.0000],\n",
       "          ...,\n",
       "          [0.0000, 0.0000, 0.0000,  ..., 0.8353, 0.6078, 0.3098],\n",
       "          [0.0000, 0.0000, 0.0000,  ..., 0.6039, 0.4078, 0.1804],\n",
       "          [0.0000, 0.0000, 0.0000,  ..., 0.3059, 0.1804, 0.0784]]],\n",
       "\n",
       "\n",
       "        [[[0.0000, 0.0000, 0.0000,  ..., 0.0000, 0.0000, 0.0000],\n",
       "          [0.0000, 0.0000, 0.0000,  ..., 0.0000, 0.0000, 0.0000],\n",
       "          [0.0000, 0.0000, 0.0000,  ..., 0.0000, 0.0000, 0.0000],\n",
       "          ...,\n",
       "          [0.0000, 0.0000, 0.0000,  ..., 0.0000, 0.0000, 0.0000],\n",
       "          [0.0000, 0.0000, 0.0000,  ..., 0.0000, 0.0000, 0.0000],\n",
       "          [0.0000, 0.0000, 0.0000,  ..., 0.0000, 0.0000, 0.0000]],\n",
       "\n",
       "         [[0.0000, 0.0000, 0.0000,  ..., 0.0000, 0.0000, 0.0000],\n",
       "          [0.0000, 0.0000, 0.0000,  ..., 0.0000, 0.0000, 0.0000],\n",
       "          [0.0000, 0.0000, 0.0000,  ..., 0.0000, 0.0000, 0.0000],\n",
       "          ...,\n",
       "          [0.0000, 0.0000, 0.0000,  ..., 0.0000, 0.0000, 0.0000],\n",
       "          [0.0000, 0.0000, 0.0000,  ..., 0.0000, 0.0000, 0.0000],\n",
       "          [0.0000, 0.0000, 0.0000,  ..., 0.0000, 0.0000, 0.0000]],\n",
       "\n",
       "         [[0.0000, 0.0000, 0.0000,  ..., 0.0000, 0.0000, 0.0000],\n",
       "          [0.0000, 0.0000, 0.0000,  ..., 0.0000, 0.0000, 0.0000],\n",
       "          [0.0000, 0.0000, 0.0000,  ..., 0.0000, 0.0000, 0.0000],\n",
       "          ...,\n",
       "          [0.0000, 0.0000, 0.0000,  ..., 0.0000, 0.0000, 0.0000],\n",
       "          [0.0000, 0.0000, 0.0000,  ..., 0.0000, 0.0000, 0.0000],\n",
       "          [0.0000, 0.0000, 0.0000,  ..., 0.0000, 0.0000, 0.0000]]],\n",
       "\n",
       "\n",
       "        [[[0.0000, 0.0000, 0.0000,  ..., 0.0000, 0.0000, 0.0000],\n",
       "          [0.0000, 0.0000, 0.0000,  ..., 0.0000, 0.0000, 0.0000],\n",
       "          [0.0000, 0.0000, 0.0000,  ..., 0.0000, 0.0000, 0.0000],\n",
       "          ...,\n",
       "          [0.0000, 0.0000, 0.0000,  ..., 0.7216, 0.7294, 0.7412],\n",
       "          [0.0000, 0.0000, 0.0000,  ..., 0.7412, 0.7451, 0.7529],\n",
       "          [0.0000, 0.0000, 0.0000,  ..., 0.7647, 0.7608, 0.7608]],\n",
       "\n",
       "         [[0.0000, 0.0000, 0.0000,  ..., 0.0000, 0.0000, 0.0000],\n",
       "          [0.0000, 0.0000, 0.0000,  ..., 0.0000, 0.0000, 0.0000],\n",
       "          [0.0000, 0.0000, 0.0000,  ..., 0.0000, 0.0000, 0.0000],\n",
       "          ...,\n",
       "          [0.0000, 0.0000, 0.0000,  ..., 0.6039, 0.6235, 0.6431],\n",
       "          [0.0000, 0.0000, 0.0000,  ..., 0.6392, 0.6510, 0.6627],\n",
       "          [0.0000, 0.0000, 0.0000,  ..., 0.6745, 0.6745, 0.6667]],\n",
       "\n",
       "         [[0.0000, 0.0000, 0.0000,  ..., 0.0000, 0.0000, 0.0000],\n",
       "          [0.0000, 0.0000, 0.0000,  ..., 0.0000, 0.0000, 0.0000],\n",
       "          [0.0000, 0.0000, 0.0000,  ..., 0.0000, 0.0000, 0.0000],\n",
       "          ...,\n",
       "          [0.0000, 0.0000, 0.0000,  ..., 0.6157, 0.6431, 0.6667],\n",
       "          [0.0000, 0.0000, 0.0000,  ..., 0.6588, 0.6745, 0.6902],\n",
       "          [0.0000, 0.0000, 0.0000,  ..., 0.6980, 0.6980, 0.6902]]]])"
      ]
     },
     "execution_count": 20,
     "metadata": {},
     "output_type": "execute_result"
    }
   ],
   "source": [
    "example_query_images"
   ]
  },
  {
   "cell_type": "code",
   "execution_count": 19,
   "id": "7a2a23f6-e15e-4d80-a59d-1508e345b657",
   "metadata": {},
   "outputs": [
    {
     "data": {
      "text/plain": [
       "\u001b[1;31mType:\u001b[0m        Tensor\n",
       "\u001b[1;31mString form:\u001b[0m\n",
       "tensor([[[[0.0000, 0.0000, 0.0000,  ..., 0.0000, 0.0000, 0.0000],\n",
       "           [0.0000, 0.0000, 0.00 <...> .., 0.0000, 0.0039, 0.0039],\n",
       "           [0.0039, 0.0078, 0.0078,  ..., 0.0000, 0.0039, 0.0039]]]])\n",
       "\u001b[1;31mLength:\u001b[0m      1\n",
       "\u001b[1;31mFile:\u001b[0m        c:\\users\\owais\\appdata\\local\\programs\\python\\python38\\lib\\site-packages\\torch\\__init__.py\n",
       "\u001b[1;31mDocstring:\u001b[0m   <no docstring>\n"
      ]
     },
     "metadata": {},
     "output_type": "display_data"
    }
   ],
   "source": [
    "?inp_batch"
   ]
  },
  {
   "cell_type": "code",
   "execution_count": null,
   "id": "69525591-7297-4565-8ba5-de328654a659",
   "metadata": {},
   "outputs": [],
   "source": [
    "inp_image = Image.open(\"D:\\Cataract_project\\Cataract_Project\\labelled_data\\Cataract_11.jpeg\")\n",
    "input_tensor = test_tranform(inp_image)\n",
    "inp_batch = input_tensor.unsqueeze(0)"
   ]
  },
  {
   "cell_type": "code",
   "execution_count": 27,
   "id": "15ca32c1-18c7-4f22-b94f-ad7fac2d48bc",
   "metadata": {},
   "outputs": [],
   "source": [
    "def transform_image(path):\n",
    "    import io\n",
    "    from prep_image_module import prep_img\n",
    "    import cv2\n",
    "    import matplotlib.pyplot as plt\n",
    "    tranform = transforms.Compose(\n",
    "        [\n",
    "           \n",
    "            # transforms.Grayscale(num_output_channels=2),\n",
    "            transforms.Resize([int(image_size * 1.15), int(image_size * 1.15)]),\n",
    "            transforms.CenterCrop(image_size),\n",
    "            transforms.ToTensor(),\n",
    "        ]\n",
    "    )\n",
    "    # image  = Image.open(path)\n",
    "    image = prep_img(path)\n",
    "    image = cv2.cvtColor(image, cv2.COLOR_BGR2RGB)\n",
    "    pil_image = Image.fromarray(image)\n",
    "    pil_image.show()\n",
    "    # image = Image.open(io.BytesIO(image_bytes))\n",
    "    image_tensor = tranform(pil_image).unsqueeze(0)\n",
    "    \n",
    "    return image_tensor\n",
    "    "
   ]
  },
  {
   "cell_type": "code",
   "execution_count": 61,
   "id": "5ac2c310-b60c-4ac2-88f1-6bffdbe5d307",
   "metadata": {},
   "outputs": [
    {
     "data": {
      "text/plain": [
       "tensor([[[[0., 0., 0.,  ..., 0., 0., 0.],\n",
       "          [0., 0., 0.,  ..., 0., 0., 0.],\n",
       "          [0., 0., 0.,  ..., 0., 0., 0.],\n",
       "          ...,\n",
       "          [0., 0., 0.,  ..., 0., 0., 0.],\n",
       "          [0., 0., 0.,  ..., 0., 0., 0.],\n",
       "          [0., 0., 0.,  ..., 0., 0., 0.]],\n",
       "\n",
       "         [[0., 0., 0.,  ..., 0., 0., 0.],\n",
       "          [0., 0., 0.,  ..., 0., 0., 0.],\n",
       "          [0., 0., 0.,  ..., 0., 0., 0.],\n",
       "          ...,\n",
       "          [0., 0., 0.,  ..., 0., 0., 0.],\n",
       "          [0., 0., 0.,  ..., 0., 0., 0.],\n",
       "          [0., 0., 0.,  ..., 0., 0., 0.]],\n",
       "\n",
       "         [[0., 0., 0.,  ..., 0., 0., 0.],\n",
       "          [0., 0., 0.,  ..., 0., 0., 0.],\n",
       "          [0., 0., 0.,  ..., 0., 0., 0.],\n",
       "          ...,\n",
       "          [0., 0., 0.,  ..., 0., 0., 0.],\n",
       "          [0., 0., 0.,  ..., 0., 0., 0.],\n",
       "          [0., 0., 0.,  ..., 0., 0., 0.]]]])"
      ]
     },
     "execution_count": 61,
     "metadata": {},
     "output_type": "execute_result"
    }
   ],
   "source": [
    "transform_image(r\"D:\\Cataract_project\\Cataract_Project\\labelled_data\\Cataract_11.jpeg\")"
   ]
  },
  {
   "cell_type": "code",
   "execution_count": null,
   "id": "6b833f42-81de-4808-b333-9e7d07fd0eef",
   "metadata": {},
   "outputs": [],
   "source": [
    "model.eval()\n",
    "# example_scores = model(\n",
    "#     example_support_images,\n",
    "#     example_support_labels,\n",
    "#     inp_batch,\n",
    "# ).detach()\n",
    "example_scores = model(  example_support_images,  example_support_labels,inp_batch).detach()\n",
    "_, example_predicted_labels = torch.max(example_scores.data, 1)\n",
    "\n",
    "# print(\"Ground Truth / Predicted\")\n",
    "# for i in range(len(example_query_labels)):\n",
    "#     print(\n",
    "#         f\"{test_set.classes[example_class_ids[example_query_labels[i]]]} / {test_set.classes[example_class_ids[example_predicted_labels[i]]]}\"\n",
    "#     # \n",
    "print(example_predicted_labels[1])"
   ]
  },
  {
   "cell_type": "code",
   "execution_count": 28,
   "id": "2b9b904a-2ca9-42e5-971a-122b7a4de402",
   "metadata": {},
   "outputs": [],
   "source": [
    "def prediction(image_tensor):\n",
    "    example_scores = model(  example_support_images,  example_support_labels,image_tensor).detach()\n",
    "    _, example_predicted_labels = torch.max(example_scores.data, 1)\n",
    "    return example_predicted_labels\n",
    "    # return \"Normal\" if example_predicted_labels==1 else \"Cataract\"\n",
    "    "
   ]
  },
  {
   "cell_type": "code",
   "execution_count": 38,
   "id": "3d928bc5-7042-49f1-9ef0-e905ae2e0dcb",
   "metadata": {},
   "outputs": [
    {
     "data": {
      "text/plain": [
       "tensor([0])"
      ]
     },
     "execution_count": 38,
     "metadata": {},
     "output_type": "execute_result"
    }
   ],
   "source": [
    "prediction(transform_image(r\"D:\\Cataract_project\\Cataract_Project\\labelled_data\\Cataract_11.jpeg\"))"
   ]
  },
  {
   "cell_type": "code",
   "execution_count": 30,
   "id": "fd8ca71e-5873-47e7-84bb-3f55f7802f3b",
   "metadata": {},
   "outputs": [
    {
     "data": {
      "text/plain": [
       "tensor([1])"
      ]
     },
     "execution_count": 30,
     "metadata": {},
     "output_type": "execute_result"
    }
   ],
   "source": [
    "prediction(transform_image(r\"C:\\Users\\owais\\Desktop\\4a99c083-f096-4f7d-b0c5-608fd509241f.jpg\"))"
   ]
  },
  {
   "cell_type": "code",
   "execution_count": 31,
   "id": "b80cd71e-a642-4898-ada7-3a4bd93d943b",
   "metadata": {},
   "outputs": [
    {
     "data": {
      "text/plain": [
       "tensor([1])"
      ]
     },
     "execution_count": 31,
     "metadata": {},
     "output_type": "execute_result"
    }
   ],
   "source": [
    "prediction(transform_image(r\"D:\\Cataract_data\\eyesonly\\cataract\\20220223_143640.jpg\"))"
   ]
  },
  {
   "cell_type": "code",
   "execution_count": 32,
   "id": "ba703dc8-53ff-4826-8282-cb2b758cd4d6",
   "metadata": {},
   "outputs": [
    {
     "data": {
      "text/plain": [
       "tensor([0])"
      ]
     },
     "execution_count": 32,
     "metadata": {},
     "output_type": "execute_result"
    }
   ],
   "source": [
    "prediction(transform_image(r\"D:\\Cataract_project\\Cataract_Project\\data_splitted\\test\\cataract\\severe_27.png\"))"
   ]
  },
  {
   "cell_type": "code",
   "execution_count": 33,
   "id": "2972c455-c417-46a2-bb9e-43a725259919",
   "metadata": {},
   "outputs": [
    {
     "data": {
      "text/plain": [
       "tensor([1])"
      ]
     },
     "execution_count": 33,
     "metadata": {},
     "output_type": "execute_result"
    }
   ],
   "source": [
    "prediction(transform_image(r\"D:\\Cataract_project\\Cataract_Project\\data_splitted\\test\\cataract\\20220223_143412.jpg\"))"
   ]
  },
  {
   "cell_type": "code",
   "execution_count": 34,
   "id": "cd64a139-693c-4fdf-8157-def55d4cab5f",
   "metadata": {},
   "outputs": [
    {
     "data": {
      "text/plain": [
       "tensor([1])"
      ]
     },
     "execution_count": 34,
     "metadata": {},
     "output_type": "execute_result"
    }
   ],
   "source": [
    "prediction(transform_image(r\"D:\\Downloads\\621526ee-29ca-47ff-9a7e-871f56152813.jpg\"))"
   ]
  },
  {
   "cell_type": "code",
   "execution_count": 37,
   "id": "8088cc4a-9b89-4756-b1f1-8e123fc8c63e",
   "metadata": {},
   "outputs": [
    {
     "data": {
      "text/plain": [
       "tensor([1])"
      ]
     },
     "execution_count": 37,
     "metadata": {},
     "output_type": "execute_result"
    }
   ],
   "source": [
    "prediction(transform_image(r\"D:\\Downloads\\IMG-3532.jpg\"))"
   ]
  },
  {
   "cell_type": "code",
   "execution_count": null,
   "id": "5a9f6549-59b7-4ad9-b4c1-61a7821070d1",
   "metadata": {},
   "outputs": [],
   "source": []
  }
 ],
 "metadata": {
  "kernelspec": {
   "display_name": "Python 3 (ipykernel)",
   "language": "python",
   "name": "python3"
  },
  "language_info": {
   "codemirror_mode": {
    "name": "ipython",
    "version": 3
   },
   "file_extension": ".py",
   "mimetype": "text/x-python",
   "name": "python",
   "nbconvert_exporter": "python",
   "pygments_lexer": "ipython3",
   "version": "3.8.2"
  }
 },
 "nbformat": 4,
 "nbformat_minor": 5
}
